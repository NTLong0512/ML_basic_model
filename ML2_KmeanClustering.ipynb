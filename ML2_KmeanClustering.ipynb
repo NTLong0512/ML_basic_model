{
 "cells": [
  {
   "cell_type": "code",
   "execution_count": null,
   "metadata": {},
   "outputs": [],
   "source": [
    "from bs4 import BeautifulSoup\n",
    "import numpy as np\n",
    "import requests\n",
    "from scipy.spatial.distance import cdist"
   ]
  },
  {
   "cell_type": "markdown",
   "metadata": {},
   "source": [
    "Dựa vào bảng thống kê GDP các nước trong 3 năm phân ra 3 cụm: PT, đang PT, chưa PT"
   ]
  },
  {
   "cell_type": "markdown",
   "metadata": {},
   "source": [
    "Crawl data"
   ]
  },
  {
   "cell_type": "code",
   "execution_count": null,
   "metadata": {},
   "outputs": [],
   "source": [
    "url = 'https://vi.wikipedia.org/wiki/Danh_s%C3%A1ch_qu%E1%BB%91c_gia_theo_GDP_(danh_ngh%C4%A9a)'\n",
    "respone = requests.get(url)"
   ]
  },
  {
   "cell_type": "code",
   "execution_count": null,
   "metadata": {},
   "outputs": [],
   "source": [
    "def decode(strs):\n",
    "    a = list(strs)\n",
    "    while ',' in a:\n",
    "        a.remove(',')\n",
    "    rs = ''.join(a)\n",
    "    return int(rs)"
   ]
  },
  {
   "cell_type": "code",
   "execution_count": null,
   "metadata": {},
   "outputs": [],
   "source": [
    "if respone.status_code == 200:\n",
    "    soup = BeautifulSoup(respone.content,'html.parser')\n",
    "    table = soup.find_all('table')\n",
    "    tb = table[2]\n",
    "    pre_rows = tb.find_all('tr')\n",
    "    rows = pre_rows[3:]\n",
    "    Data_set = []#name/2023/2022/2021\n",
    "    for row in rows:\n",
    "        x = []\n",
    "        cols = row.find_all('td')\n",
    "        x.append(cols[0].find('a').text.strip())\n",
    "        for i in range(2,6,2):\n",
    "            tmp = cols[i].text.strip()\n",
    "            if tmp == '—':\n",
    "                x.append(0)\n",
    "            else:\n",
    "                x.append(decode(tmp))\n",
    "        x.append(0)\n",
    "        if len(cols) > 7:\n",
    "             x[-1]=decode(cols[6].text.strip())\n",
    "        Data_set.append(x)\n",
    "     \n",
    "        "
   ]
  },
  {
   "cell_type": "markdown",
   "metadata": {},
   "source": [
    "PHÂN NHÓM CÁC NƯỚC\n"
   ]
  },
  {
   "cell_type": "markdown",
   "metadata": {},
   "source": [
    "      C1: Sử dụng thuật toán\n"
   ]
  },
  {
   "cell_type": "code",
   "execution_count": null,
   "metadata": {},
   "outputs": [],
   "source": [
    "tmp = np.array(Data_set)\n",
    "X = tmp[:,1:]\n",
    "X = X.astype('int')\n",
    "K = 3"
   ]
  },
  {
   "cell_type": "code",
   "execution_count": null,
   "metadata": {},
   "outputs": [],
   "source": [
    "np.random.seed(100)\n",
    "def Ran_Center(X,K):\n",
    "    rs = [X[0],X[100],X[-1]]\n",
    "    return np.array(rs)\n",
    "     \n",
    "def Argmin_index_Center(X,centers):\n",
    "    D = cdist(X,centers)\n",
    "    return np.argmin(D,axis=1)\n",
    "def Average(X,labels,K):\n",
    "    centers = np.zeros((K,X.shape[1]))\n",
    "    for i in range(K):\n",
    "        Xk = X[labels==i,:]\n",
    "        centers[i,:] = np.mean(Xk,axis=0)\n",
    "    return centers\n",
    "\n",
    "def Check(old,new):\n",
    "    return set([tuple(i) for i in old]) == set([tuple(i) for i in new])\n",
    "\n",
    "def K_Means(X,K):\n",
    "    old = Ran_Center(X,K)\n",
    "    labels = np.zeros([X.shape[0],X.shape[1]])\n",
    "    while 1:\n",
    "        labels = Argmin_index_Center(X,old)\n",
    "        new = Average(X,labels,K)\n",
    "        if Check(old,new):\n",
    "            break\n",
    "        else:\n",
    "            old = new\n",
    "    return old,labels"
   ]
  },
  {
   "cell_type": "code",
   "execution_count": 143,
   "metadata": {},
   "outputs": [
    {
     "name": "stdout",
     "output_type": "stream",
     "text": [
      "High:  Hoa Kỳ Trung Quốc \n",
      "\n",
      "Medium:  Nhật Bản Đức Ấn Độ Vương quốc Anh Pháp Ý Canada Brasil Nga Hàn Quốc Úc México Tây Ban Nha Indonesia \n",
      "\n",
      "Low:  Hà Lan Ả Rập Xê Út Thổ Nhĩ Kỳ Thụy Sĩ Đài Loan Ba Lan Argentina Bỉ Thụy Điển Ireland Thái Lan Na Uy Israel Singapore Áo Nigeria UAE Việt Nam Malaysia Philippines Bangladesh Đan Mạch Nam Phi Hồng Kông Ai Cập Pakistan Iran Chile România Colombia Séc Phần Lan Peru Iraq Bồ Đào Nha New Zealand Kazakhstan Hy Lạp Qatar Algérie Hungary Kuwait Ethiopia Ukraina Maroc Slovakia Ecuador Cộng hòa Dominica Puerto Rico Kenya Angola Cuba Oman Guatemala Bulgaria Venezuela Uzbekistan Luxembourg Tanzania Turkmenistan Croatia Litva Costa Rica Uruguay Panama Bờ Biển Ngà Sri Lanka Serbia Belarus Azerbaijan CHDC Congo Slovenia Ghana Myanmar Jordan Tunisie Uganda Cameroon Latvia Sudan Libya Bolivia Bahrain Paraguay Nepal Estonia Ma Cao El Salvador Honduras Papua New Guinea Sénégal Síp Campuchia Zimbabwe Zambia Iceland Bosna và Hercegovina Trinidad và Tobago Gruzia Haiti Liban Armenia Guinée Burkina Faso Mali Gabon Albania Afghanistan Mozambique Palestine Botswana Yemen Malta Bénin Nicaragua Jamaica Mông Cổ Niger Guyana Brunei Madagascar CHDCND Triều Tiên Moldova Syria Bắc Macedonia Guinea Xích Đạo Mauritius Bahamas Lào Namibia Rwanda Cộng hòa Congo Tajikistan Kyrgyzstan Tchad Malawi Mauritanie Nouvelle-Calédonie Kosovo Togo Somalia Monaco Bermuda Montenegro Nam Sudan Maldives Liechtenstein Guam Barbados Polynésie thuộc Pháp Quần đảo Cayman Fiji Eswatini Liberia Djibouti Andorra Aruba Sierra Leone Suriname Burundi Belize Greenland Trung Phi Curaçao Bhutan Eritrea Lesotho Cabo Verde Gambia Saint Lucia Đông Timor Seychelles Guiné-Bissau Antigua và Barbuda San Marino Zanzibar Quần đảo Solomon Quần đảo Virgin thuộc Anh Comoros Grenada Quần đảo Bắc Mariana Vanuatu Saint Kitts và Nevis Saint Vincent và Grenadines Quần đảo Turks và Caicos Samoa Sint Maarten Samoa thuộc Mỹ Dominica São Tomé và Príncipe Tonga Micronesia Quần đảo Marshall Quần đảo Cook Palau Anguilla Kiribati Nauru Montserrat Tuvalu \n",
      "\n"
     ]
    }
   ],
   "source": [
    "center,labels = K_Means(X,K)\n",
    "high = []\n",
    "medium = []\n",
    "low = []\n",
    "for i in range(X.shape[0]):\n",
    "    if(labels[i] == 0):\n",
    "        high.append(Data_set[i][0])\n",
    "    elif(labels[i]==1):\n",
    "        medium.append(Data_set[i][0])\n",
    "    else:\n",
    "        low.append(Data_set[i][0])\n",
    "def show(iter):\n",
    "    for i in iter:\n",
    "        print(i,end=' ')\n",
    "    print('\\n')\n",
    "print('High: ',end=' ')\n",
    "show(high)\n",
    "print('Medium: ',end=' ')\n",
    "show(medium)\n",
    "print('Low: ',end=' ')\n",
    "show(low)\n"
   ]
  }
 ],
 "metadata": {
  "kernelspec": {
   "display_name": "venv",
   "language": "python",
   "name": "python3"
  },
  "language_info": {
   "codemirror_mode": {
    "name": "ipython",
    "version": 3
   },
   "file_extension": ".py",
   "mimetype": "text/x-python",
   "name": "python",
   "nbconvert_exporter": "python",
   "pygments_lexer": "ipython3",
   "version": "3.11.3"
  },
  "orig_nbformat": 4
 },
 "nbformat": 4,
 "nbformat_minor": 2
}
