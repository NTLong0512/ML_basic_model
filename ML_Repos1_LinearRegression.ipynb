{
 "cells": [
  {
   "cell_type": "code",
   "execution_count": 2,
   "id": "7a5f9523",
   "metadata": {},
   "outputs": [],
   "source": [
    "import numpy as np\n",
    "import matplotlib.pyplot as plt"
   ]
  },
  {
   "cell_type": "markdown",
   "id": "e6ef4785",
   "metadata": {},
   "source": [
    "predict type of user if u know amounts of money u sent and got every month"
   ]
  },
  {
   "cell_type": "code",
   "execution_count": 13,
   "id": "622c3811",
   "metadata": {},
   "outputs": [],
   "source": [
    "np.random.seed(0)\n",
    "sent = np.random.randint(0,50,size = 20)\n",
    "got = np.random.randint(1,20,size = 20)\n",
    "X = np.hstack((sent.reshape(20,1),got.reshape(20,1)))"
   ]
  },
  {
   "cell_type": "code",
   "execution_count": null,
   "id": "4510c6a8",
   "metadata": {},
   "outputs": [],
   "source": []
  },
  {
   "cell_type": "code",
   "execution_count": 15,
   "id": "38f5b8ea",
   "metadata": {},
   "outputs": [],
   "source": [
    "Y = np.array([4,4,1,1,1,3,2,2,2,3,1,1,2,2,1,1,3,3,2,4])"
   ]
  },
  {
   "cell_type": "code",
   "execution_count": 29,
   "id": "ce6be4fa",
   "metadata": {},
   "outputs": [],
   "source": [
    "#add bias\n",
    "bias  = np.ones((X.shape[0],1))\n",
    "X_bar = np.hstack((bias,X))\n",
    "Y = Y.reshape(20,1)"
   ]
  },
  {
   "cell_type": "code",
   "execution_count": 43,
   "id": "c99dd1ef",
   "metadata": {},
   "outputs": [],
   "source": [
    "#(X_bar.T * X_bar)dagger * X_bar.T * Y = w\n",
    "dagger = X_bar.T @ X_bar\n",
    "W = np.linalg.pinv(dagger) @ X_bar.T @ Y"
   ]
  },
  {
   "cell_type": "markdown",
   "id": "2e85002c",
   "metadata": {},
   "source": [
    "draw in chart "
   ]
  },
  {
   "cell_type": "code",
   "execution_count": 56,
   "id": "27c826cb",
   "metadata": {},
   "outputs": [],
   "source": [
    "#List[i] = sent[i] - got[i], i don't khnow how to draw 2 dimensions on a chart :D\n",
    "List = []\n",
    "for i in range(20):\n",
    "    List.append(X[i][0]-X[i][1])\n",
    "X= np.array(List)"
   ]
  },
  {
   "cell_type": "code",
   "execution_count": 82,
   "id": "136fe1e3",
   "metadata": {},
   "outputs": [],
   "source": [
    "def train(a,b):\n",
    "    return W[0][0]+W[0][1]*a+W[0][2]*b"
   ]
  },
  {
   "cell_type": "code",
   "execution_count": 88,
   "id": "3e538453",
   "metadata": {},
   "outputs": [],
   "source": [
    "X_train = np.array([1-15,40-2])\n",
    "Y_train = np.array([train(1,15),train(40,2)])"
   ]
  },
  {
   "cell_type": "code",
   "execution_count": 90,
   "id": "cfac63ac",
   "metadata": {},
   "outputs": [
    {
     "data": {
      "text/plain": [
       "Text(0, 0.5, 'Type')"
      ]
     },
     "execution_count": 90,
     "metadata": {},
     "output_type": "execute_result"
    },
    {
     "data": {
      "image/png": "[encoded data removed]",
      "text/plain": [
       "<Figure size 640x480 with 1 Axes>"
      ]
     },
     "metadata": {},
     "output_type": "display_data"
    }
   ],
   "source": [
    "plt.plot(X.reshape(1,20),Y.T,'go')\n",
    "plt.axis([-15,40,0,5])\n",
    "plt.plot(X_train,Y_train)\n",
    "plt.xlabel('X = sent - got')\n",
    "plt.ylabel('Type')"
   ]
  },
  {
   "cell_type": "markdown",
   "id": "4a033c5b",
   "metadata": {},
   "source": [
    "Use Sklearn: "
   ]
  },
  {
   "cell_type": "code",
   "execution_count": 92,
   "id": "29a591ab",
   "metadata": {},
   "outputs": [],
   "source": [
    "from sklearn import datasets, linear_model"
   ]
  },
  {
   "cell_type": "code",
   "execution_count": 96,
   "id": "6ef70c53",
   "metadata": {},
   "outputs": [
    {
     "data": {
      "text/html": [
       "<style>#sk-container-id-1 {color: black;background-color: white;}#sk-container-id-1 pre{padding: 0;}#sk-container-id-1 div.sk-toggleable {background-color: white;}#sk-container-id-1 label.sk-toggleable__label {cursor: pointer;display: block;width: 100%;margin-bottom: 0;padding: 0.3em;box-sizing: border-box;text-align: center;}#sk-container-id-1 label.sk-toggleable__label-arrow:before {content: \"▸\";float: left;margin-right: 0.25em;color: #696969;}#sk-container-id-1 label.sk-toggleable__label-arrow:hover:before {color: black;}#sk-container-id-1 div.sk-estimator:hover label.sk-toggleable__label-arrow:before {color: black;}#sk-container-id-1 div.sk-toggleable__content {max-height: 0;max-width: 0;overflow: hidden;text-align: left;background-color: #f0f8ff;}#sk-container-id-1 div.sk-toggleable__content pre {margin: 0.2em;color: black;border-radius: 0.25em;background-color: #f0f8ff;}#sk-container-id-1 input.sk-toggleable__control:checked~div.sk-toggleable__content {max-height: 200px;max-width: 100%;overflow: auto;}#sk-container-id-1 input.sk-toggleable__control:checked~label.sk-toggleable__label-arrow:before {content: \"▾\";}#sk-container-id-1 div.sk-estimator input.sk-toggleable__control:checked~label.sk-toggleable__label {background-color: #d4ebff;}#sk-container-id-1 div.sk-label input.sk-toggleable__control:checked~label.sk-toggleable__label {background-color: #d4ebff;}#sk-container-id-1 input.sk-hidden--visually {border: 0;clip: rect(1px 1px 1px 1px);clip: rect(1px, 1px, 1px, 1px);height: 1px;margin: -1px;overflow: hidden;padding: 0;position: absolute;width: 1px;}#sk-container-id-1 div.sk-estimator {font-family: monospace;background-color: #f0f8ff;border: 1px dotted black;border-radius: 0.25em;box-sizing: border-box;margin-bottom: 0.5em;}#sk-container-id-1 div.sk-estimator:hover {background-color: #d4ebff;}#sk-container-id-1 div.sk-parallel-item::after {content: \"\";width: 100%;border-bottom: 1px solid gray;flex-grow: 1;}#sk-container-id-1 div.sk-label:hover label.sk-toggleable__label {background-color: #d4ebff;}#sk-container-id-1 div.sk-serial::before {content: \"\";position: absolute;border-left: 1px solid gray;box-sizing: border-box;top: 0;bottom: 0;left: 50%;z-index: 0;}#sk-container-id-1 div.sk-serial {display: flex;flex-direction: column;align-items: center;background-color: white;padding-right: 0.2em;padding-left: 0.2em;position: relative;}#sk-container-id-1 div.sk-item {position: relative;z-index: 1;}#sk-container-id-1 div.sk-parallel {display: flex;align-items: stretch;justify-content: center;background-color: white;position: relative;}#sk-container-id-1 div.sk-item::before, #sk-container-id-1 div.sk-parallel-item::before {content: \"\";position: absolute;border-left: 1px solid gray;box-sizing: border-box;top: 0;bottom: 0;left: 50%;z-index: -1;}#sk-container-id-1 div.sk-parallel-item {display: flex;flex-direction: column;z-index: 1;position: relative;background-color: white;}#sk-container-id-1 div.sk-parallel-item:first-child::after {align-self: flex-end;width: 50%;}#sk-container-id-1 div.sk-parallel-item:last-child::after {align-self: flex-start;width: 50%;}#sk-container-id-1 div.sk-parallel-item:only-child::after {width: 0;}#sk-container-id-1 div.sk-dashed-wrapped {border: 1px dashed gray;margin: 0 0.4em 0.5em 0.4em;box-sizing: border-box;padding-bottom: 0.4em;background-color: white;}#sk-container-id-1 div.sk-label label {font-family: monospace;font-weight: bold;display: inline-block;line-height: 1.2em;}#sk-container-id-1 div.sk-label-container {text-align: center;}#sk-container-id-1 div.sk-container {/* jupyter's `normalize.less` sets `[hidden] { display: none; }` but bootstrap.min.css set `[hidden] { display: none !important; }` so we also need the `!important` here to be able to override the default hidden behavior on the sphinx rendered scikit-learn.org. See: https://github.com/scikit-learn/scikit-learn/issues/21755 */display: inline-block !important;position: relative;}#sk-container-id-1 div.sk-text-repr-fallback {display: none;}</style><div id=\"sk-container-id-1\" class=\"sk-top-container\"><div class=\"sk-text-repr-fallback\"><pre>LinearRegression(fit_intercept=False)</pre><b>In a Jupyter environment, please rerun this cell to show the HTML representation or trust the notebook. <br />On GitHub, the HTML representation is unable to render, please try loading this page with nbviewer.org.</b></div><div class=\"sk-container\" hidden><div class=\"sk-item\"><div class=\"sk-estimator sk-toggleable\"><input class=\"sk-toggleable__control sk-hidden--visually\" id=\"sk-estimator-id-1\" type=\"checkbox\" checked><label for=\"sk-estimator-id-1\" class=\"sk-toggleable__label sk-toggleable__label-arrow\">LinearRegression</label><div class=\"sk-toggleable__content\"><pre>LinearRegression(fit_intercept=False)</pre></div></div></div></div></div>"
      ],
      "text/plain": [
       "LinearRegression(fit_intercept=False)"
      ]
     },
     "execution_count": 96,
     "metadata": {},
     "output_type": "execute_result"
    }
   ],
   "source": [
    "lr = linear_model.LinearRegression(fit_intercept=False)\n",
    "# w by fit\n",
    "lr.fit(X_bar,Y)"
   ]
  },
  {
   "cell_type": "code",
   "execution_count": 99,
   "id": "67dae885",
   "metadata": {},
   "outputs": [],
   "source": [
    "w=lr.coef_"
   ]
  },
  {
   "cell_type": "code",
   "execution_count": 102,
   "id": "76a26991",
   "metadata": {},
   "outputs": [
    {
     "data": {
      "text/plain": [
       "array([[ 0.8414162 ,  0.06404269, -0.0153259 ],\n",
       "       [ 0.8414162 ,  0.06404269, -0.0153259 ]])"
      ]
     },
     "execution_count": 102,
     "metadata": {},
     "output_type": "execute_result"
    }
   ],
   "source": [
    "np.vstack((w,W))"
   ]
  }
 ],
 "metadata": {
  "kernelspec": {
   "display_name": "Python 3 (ipykernel)",
   "language": "python",
   "name": "python3"
  },
  "language_info": {
   "codemirror_mode": {
    "name": "ipython",
    "version": 3
   },
   "file_extension": ".py",
   "mimetype": "text/x-python",
   "name": "python",
   "nbconvert_exporter": "python",
   "pygments_lexer": "ipython3",
   "version": "3.10.9"
  }
 },
 "nbformat": 4,
 "nbformat_minor": 5
}
